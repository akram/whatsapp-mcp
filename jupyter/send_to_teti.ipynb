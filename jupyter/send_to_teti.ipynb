{
  "cells": [
    {
      "cell_type": "markdown",
      "metadata": {},
      "source": [
        "# Send Messages to Teti Kusmiati\n",
        "\n",
        "This notebook demonstrates how to:\n",
        "1. Search for Teti in WhatsApp contacts\n",
        "2. Send her a lovely text message\n",
        "3. Send her an audio message from a local file\n"
      ]
    },
    {
      "cell_type": "code",
      "execution_count": 2,
      "metadata": {},
      "outputs": [],
      "source": [
        "# Import required libraries\n",
        "import requests\n",
        "import json\n",
        "from datetime import datetime\n",
        "from typing import Dict, List, Any\n",
        "import mcp\n",
        "from mcp.client.stdio import stdio_client\n"
      ]
    },
    {
      "cell_type": "code",
      "execution_count": 3,
      "metadata": {},
      "outputs": [
        {
          "name": "stdout",
          "output_type": "stream",
          "text": [
            "🔧 Configuration:\n",
            "   WhatsApp MCP SSE URL: https://whatsapp-mcp-route-whatsapp-mcp.apps.rosa.akram.a1ey.p3.openshiftapps.com/sse\n",
            "   Audio File: /Users/akram/Downloads/message.mp3\n",
            "   Using MCP protocol for tool discovery and execution\n"
          ]
        }
      ],
      "source": [
        "# Configuration\n",
        "WHATSAPP_MCP_SSE_URL = \"https://whatsapp-mcp-route-whatsapp-mcp.apps.rosa.akram.a1ey.p3.openshiftapps.com/sse\"\n",
        "AUDIO_FILE_PATH = \"/Users/akram/Downloads/message.mp3\"\n",
        "\n",
        "print(f\"🔧 Configuration:\")\n",
        "print(f\"   WhatsApp MCP SSE URL: {WHATSAPP_MCP_SSE_URL}\")\n",
        "print(f\"   Audio File: {AUDIO_FILE_PATH}\")\n",
        "print(f\"   Using MCP protocol for tool discovery and execution\")\n"
      ]
    },
    {
      "cell_type": "code",
      "execution_count": 4,
      "metadata": {},
      "outputs": [
        {
          "name": "stdout",
          "output_type": "stream",
          "text": [
            "🔌 Connecting to WhatsApp MCP server...\n",
            "❌ Failed to connect to MCP server: '_AsyncGeneratorContextManager' object has no attribute 'initialize'\n"
          ]
        }
      ],
      "source": [
        "async def connect_to_mcp_server():\n",
        "    \"\"\"Connect to the WhatsApp MCP server using SSE transport.\"\"\"\n",
        "    print(\"🔌 Connecting to WhatsApp MCP server...\")\n",
        "    \n",
        "    try:\n",
        "        # Create MCP client with SSE transport\n",
        "        client = mcp.client.sse.sse_client(WHATSAPP_MCP_SSE_URL)\n",
        "        \n",
        "        # Initialize the connection\n",
        "        await client.initialize()\n",
        "        \n",
        "        print(\"✅ Connected to WhatsApp MCP server!\")\n",
        "        return client\n",
        "        \n",
        "    except Exception as e:\n",
        "        print(f\"❌ Failed to connect to MCP server: {e}\")\n",
        "        return None\n",
        "\n",
        "# Connect to MCP server\n",
        "mcp_client = await connect_to_mcp_server()\n"
      ]
    },
    {
      "cell_type": "code",
      "execution_count": null,
      "metadata": {},
      "outputs": [],
      "source": [
        "async def discover_tools():\n",
        "    \"\"\"Discover available WhatsApp MCP tools.\"\"\"\n",
        "    print(\"🔍 Discovering available WhatsApp MCP tools...\")\n",
        "    \n",
        "    if not mcp_client:\n",
        "        print(\"❌ No MCP client available\")\n",
        "        return []\n",
        "    \n",
        "    try:\n",
        "        # List available tools\n",
        "        tools = await mcp_client.list_tools()\n",
        "        \n",
        "        print(f\"✅ Found {len(tools.tools)} WhatsApp MCP tools:\")\n",
        "        for tool in tools.tools:\n",
        "            print(f\"   - {tool.name}: {tool.description}\")\n",
        "        \n",
        "        return tools.tools\n",
        "        \n",
        "    except Exception as e:\n",
        "        print(f\"❌ Failed to discover tools: {e}\")\n",
        "        return []\n",
        "\n",
        "# Discover tools\n",
        "available_tools = await discover_tools()\n"
      ]
    },
    {
      "cell_type": "code",
      "execution_count": null,
      "metadata": {},
      "outputs": [],
      "source": [
        "async def search_contacts_mcp(query: str):\n",
        "    \"\"\"Search WhatsApp contacts using MCP tool.\"\"\"\n",
        "    print(f\"🔍 Searching for contacts matching: '{query}'\")\n",
        "    \n",
        "    if not mcp_client:\n",
        "        print(\"❌ No MCP client available\")\n",
        "        return []\n",
        "    \n",
        "    try:\n",
        "        # Call the search_contacts tool via MCP\n",
        "        result = await mcp_client.call_tool(\"search_contacts\", {\"query\": query})\n",
        "        \n",
        "        if result.content:\n",
        "            contacts = result.content[0].text\n",
        "            contacts_data = json.loads(contacts)\n",
        "            print(f\"✅ Found {len(contacts_data)} contacts\")\n",
        "            return contacts_data\n",
        "        else:\n",
        "            print(\"❌ No contacts returned\")\n",
        "            return []\n",
        "            \n",
        "    except Exception as e:\n",
        "        print(f\"❌ Search error: {e}\")\n",
        "        return []\n",
        "\n",
        "# Search for Teti using MCP\n",
        "contacts = await search_contacts_mcp(\"Teti\")\n",
        "\n",
        "if contacts:\n",
        "    print(\"\\n📋 Found contacts:\")\n",
        "    for i, contact in enumerate(contacts, 1):\n",
        "        print(f\"   {i}. {contact.get('name', 'Unknown')} - {contact.get('phone_number', 'No phone')}\")\n",
        "else:\n",
        "    print(\"\\n❌ No contacts found for 'Teti'\")\n"
      ]
    },
    {
      "cell_type": "code",
      "execution_count": null,
      "metadata": {},
      "outputs": [],
      "source": [
        "async def send_text_message_mcp(recipient: str, message: str):\n",
        "    \"\"\"Send a text message using MCP tool.\"\"\"\n",
        "    print(f\"📤 Sending text message to: {recipient}\")\n",
        "    print(f\"💬 Message: {message}\")\n",
        "    \n",
        "    if not mcp_client:\n",
        "        print(\"❌ No MCP client available\")\n",
        "        return False\n",
        "    \n",
        "    try:\n",
        "        # Call the send_message tool via MCP\n",
        "        result = await mcp_client.call_tool(\"send_message\", {\n",
        "            \"recipient\": recipient,\n",
        "            \"message\": message\n",
        "        })\n",
        "        \n",
        "        if result.content:\n",
        "            response = result.content[0].text\n",
        "            print(f\"✅ Text message sent successfully!\")\n",
        "            print(f\"   Result: {response}\")\n",
        "            return True\n",
        "        else:\n",
        "            print(\"❌ No response from send_message tool\")\n",
        "            return False\n",
        "            \n",
        "    except Exception as e:\n",
        "        print(f\"❌ Text message error: {e}\")\n",
        "        return False\n",
        "\n",
        "# Send lovely text message to Teti using MCP\n",
        "if contacts:\n",
        "    # Use the first contact found (assuming it's Teti)\n",
        "    teti_contact = contacts[0]\n",
        "    teti_phone = teti_contact.get('phone_number')\n",
        "    \n",
        "    if teti_phone:\n",
        "        lovely_message = \"Hello Teti! 👋 Hope you're having a wonderful day! This message was sent using WhatsApp MCP integration. Sending you lots of positive vibes! 🌟✨\"\n",
        "        \n",
        "        text_success = await send_text_message_mcp(teti_phone, lovely_message)\n",
        "    else:\n",
        "        print(\"❌ No phone number found for Teti\")\n",
        "        text_success = False\n",
        "else:\n",
        "    print(\"❌ No contacts found, cannot send message\")\n",
        "    text_success = False\n"
      ]
    },
    {
      "cell_type": "code",
      "execution_count": null,
      "metadata": {},
      "outputs": [],
      "source": [
        "async def send_audio_message_mcp(recipient: str, audio_file_path: str):\n",
        "    \"\"\"Send an audio message using MCP tool.\"\"\"\n",
        "    print(f\"🎵 Sending audio message to: {recipient}\")\n",
        "    print(f\"📁 Audio file: {audio_file_path}\")\n",
        "    \n",
        "    # Check if file exists\n",
        "    import os\n",
        "    if not os.path.exists(audio_file_path):\n",
        "        print(f\"❌ Audio file not found: {audio_file_path}\")\n",
        "        return False\n",
        "    \n",
        "    if not mcp_client:\n",
        "        print(\"❌ No MCP client available\")\n",
        "        return False\n",
        "    \n",
        "    try:\n",
        "        # Call the send_audio_message tool via MCP\n",
        "        result = await mcp_client.call_tool(\"send_audio_message\", {\n",
        "            \"recipient\": recipient,\n",
        "            \"media_path\": audio_file_path\n",
        "        })\n",
        "        \n",
        "        if result.content:\n",
        "            response = result.content[0].text\n",
        "            print(f\"✅ Audio message sent successfully!\")\n",
        "            print(f\"   Result: {response}\")\n",
        "            return True\n",
        "        else:\n",
        "            print(\"❌ No response from send_audio_message tool\")\n",
        "            return False\n",
        "            \n",
        "    except Exception as e:\n",
        "        print(f\"❌ Audio message error: {e}\")\n",
        "        return False\n",
        "\n",
        "# Send audio message to Teti using MCP\n",
        "if contacts and 'teti_phone' in locals():\n",
        "    audio_success = await send_audio_message_mcp(teti_phone, AUDIO_FILE_PATH)\n",
        "else:\n",
        "    print(\"❌ No contacts found or phone number not available, cannot send audio\")\n",
        "    audio_success = False\n"
      ]
    },
    {
      "cell_type": "code",
      "execution_count": null,
      "metadata": {},
      "outputs": [],
      "source": [
        "\n"
      ]
    },
    {
      "cell_type": "markdown",
      "metadata": {},
      "source": []
    }
  ],
  "metadata": {
    "kernelspec": {
      "display_name": "base",
      "language": "python",
      "name": "python3"
    },
    "language_info": {
      "codemirror_mode": {
        "name": "ipython",
        "version": 3
      },
      "file_extension": ".py",
      "mimetype": "text/x-python",
      "name": "python",
      "nbconvert_exporter": "python",
      "pygments_lexer": "ipython3",
      "version": "3.12.2"
    }
  },
  "nbformat": 4,
  "nbformat_minor": 2
}
